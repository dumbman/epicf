{
 "cells": [
  {
   "cell_type": "code",
   "execution_count": 5,
   "metadata": {},
   "outputs": [
    {
     "ename": "ImportError",
     "evalue": "cannot import name 'ExternalFieldElectricOnRegularGridFromH5File'",
     "output_type": "error",
     "traceback": [
      "\u001b[0;31m---------------------------------------------------------------------------\u001b[0m",
      "\u001b[0;31mImportError\u001b[0m                               Traceback (most recent call last)",
      "\u001b[0;32m<ipython-input-5-01b8b02ee287>\u001b[0m in \u001b[0;36m<module>\u001b[0;34m()\u001b[0m\n\u001b[1;32m      6\u001b[0m \u001b[0msys\u001b[0m\u001b[0;34m.\u001b[0m\u001b[0mpath\u001b[0m\u001b[0;34m.\u001b[0m\u001b[0mappend\u001b[0m\u001b[0;34m(\u001b[0m \u001b[0mjupyter_module_path\u001b[0m \u001b[0;34m)\u001b[0m\u001b[0;34m\u001b[0m\u001b[0m\n\u001b[1;32m      7\u001b[0m \u001b[0;34m\u001b[0m\u001b[0m\n\u001b[0;32m----> 8\u001b[0;31m \u001b[0;32mfrom\u001b[0m \u001b[0mEfJupyter\u001b[0m \u001b[0;32mimport\u001b[0m \u001b[0mEfConf\u001b[0m\u001b[0;34m\u001b[0m\u001b[0m\n\u001b[0m",
      "\u001b[0;32m~/progs/python/ef_python/examples/single_particle_in_magnetic_field/../../EfJupyter/EfConf.py\u001b[0m in \u001b[0;36m<module>\u001b[0;34m()\u001b[0m\n\u001b[1;32m     18\u001b[0m \u001b[0;32mfrom\u001b[0m \u001b[0mParticleSources\u001b[0m \u001b[0;32mimport\u001b[0m \u001b[0mParticleSourceBox\u001b[0m\u001b[0;34m,\u001b[0m \u001b[0mParticleSourceCylinder\u001b[0m\u001b[0;34m\u001b[0m\u001b[0m\n\u001b[1;32m     19\u001b[0m \u001b[0;32mfrom\u001b[0m \u001b[0mInnerRegions\u001b[0m \u001b[0;32mimport\u001b[0m \u001b[0mInnerRegionTubeAlongZSegment\u001b[0m\u001b[0;34m\u001b[0m\u001b[0m\n\u001b[0;32m---> 20\u001b[0;31m \u001b[0;32mfrom\u001b[0m \u001b[0mExternalFields\u001b[0m \u001b[0;32mimport\u001b[0m \u001b[0mExternalFieldElectricOnRegularGridFromH5File\u001b[0m\u001b[0;34m\u001b[0m\u001b[0m\n\u001b[0m\u001b[1;32m     21\u001b[0m \u001b[0;34m\u001b[0m\u001b[0m\n\u001b[1;32m     22\u001b[0m \u001b[0;34m\u001b[0m\u001b[0m\n",
      "\u001b[0;31mImportError\u001b[0m: cannot import name 'ExternalFieldElectricOnRegularGridFromH5File'"
     ]
    }
   ],
   "source": [
    "import os\n",
    "import sys\n",
    "jupyter_module_path = os.path.join( os.getcwd(), '..', '..' )\n",
    "sys.path.append( jupyter_module_path )\n",
    "jupyter_module_path = os.path.join( os.getcwd(), '..', '..', 'EfJupyter' )\n",
    "sys.path.append( jupyter_module_path )\n",
    "\n",
    "from EfJupyter import EfConf"
   ]
  },
  {
   "cell_type": "markdown",
   "metadata": {},
   "source": [
    "In this example, we compare an exact analytical trajectory of a charged particle moving in a uniform magnetic field with results of a numerical simulation."
   ]
  },
  {
   "cell_type": "markdown",
   "metadata": {},
   "source": [
    "A charged particle moves in uniform magnetic field in circular trajectory. \n",
    "An exact expressions for the trajectory can be obtained by solving Newton's equation:\n",
    "\n",
    "$$\n",
    "m \\frac{ d \\textbf{v} }{ dt } = \\frac{q}{c} [ \\textbf{v} \\ \\textbf{H} ]\n",
    "$$\n",
    "\n",
    "We chose z-axis to be directed along the magnetic field. \n",
    "Then the previous expression becomes:\n",
    "\n",
    "\\begin{align}\n",
    "& m v_x' = \\frac{q}{c} v_y H_z \\\\\n",
    "& m v_y' = -\\frac{q}{c} v_x H_z \\\\\n",
    "& m v_z' = 0\n",
    "\\end{align}\n",
    "\n",
    "Performing integration over time (see [Single Particle in Uniform Magnetic Field](https://github.com/epicf/ef/blob/dev/examples/single_particle_in_magnetic_field/Single%20Particle%20in%20Uniform%20Magnetic%20Field.ipynb) [SymPy](http://www.sympy.org/en/index.html) notebook), it is possible to obtain\n",
    "particle's law of motion:\n",
    "\n",
    "\\begin{align}\n",
    "&v_x = v_{x0} \\cos( \\Omega t ) + v_{y0} \\sin( \\Omega t )\n",
    "\\\\\n",
    "&v_y = -v_{x0} \\sin( \\Omega t ) + v_{y0} \\cos( \\Omega t )\n",
    "\\\\\n",
    "&v_z = v_{z0}\n",
    "\\end{align}\n",
    "\n",
    "\\begin{align}\n",
    "&x = x_0 + \\frac{1}{\\Omega} \\Big[ v_{x0} \\sin( \\Omega t ) - v_{y0} \\cos( \\Omega t ) + v_{y0} \\Big]\n",
    "\\\\\n",
    "&y = y_0 + \\frac{1}{\\Omega} \\Big[ v_{x0} \\cos( \\Omega t ) + v_{y0} \\sin( \\Omega t ) - v_{x0} \\Big]\n",
    "\\\\\n",
    "&z = z_0 + v_{z0} t\n",
    "\\end{align}\n",
    "\n",
    "\n",
    "The parameters of the [circular motion](https://en.wikipedia.org/wiki/Gyroradius) - cyclotron frequency $\\Omega$ and Larmor radius $r$ - are\n",
    "\n",
    "$$\n",
    "\\Omega = \\frac{q H_z}{m c},\n",
    "\\qquad\n",
    "r = \\frac{m c v_{\\perp}}{q H_z} = \\frac{m c (v_x^2 + v_y^2)^{1/2}}{q H_z}\n",
    "$$\n"
   ]
  },
  {
   "cell_type": "markdown",
   "metadata": {},
   "source": [
    "Let's perform some estimates (see below).\n",
    "Suppose there is an electron (`q = 4.8e-10 [cgs]`, `m = 9.1e-28 [g]`) moving \n",
    "in the `1000 [Gs] = 1 * 10^-1 [T]` magnetic field. It's speed along the field (z-axis) corresponds\n",
    "to 1 keV energy, and it's speed in perpendicular plane corresponds to energy 100 eV (initially distributed\n",
    "evenly between x- and y-components)."
   ]
  },
  {
   "cell_type": "code",
   "execution_count": 9,
   "metadata": {},
   "outputs": [
    {
     "name": "stdout",
     "output_type": "stream",
     "text": [
      "q = 4.800e-10 [cgs]\n",
      "m = 9.800e-28 [g]\n",
      "E_along = 1.000e+03 [eV] = 1.602e-09 [erg]\n",
      "E_perp = 1.000e+02 [eV] = 1.602e-10 [erg]\n",
      "v_along = 1.808e+09 [cm/s]; p_along = 1.772e-18 [g * cm/s]\n",
      "v_perp = 4.043e+08 [cm/s]; p_perp = 3.962e-19 [g * cm/s]\n"
     ]
    }
   ],
   "source": [
    "from math import *\n",
    "\n",
    "m = 9.8e-28\n",
    "q = 4.8e-10\n",
    "print( \"q = {:.3e} [cgs]\".format( q ) )\n",
    "print( \"m = {:.3e} [g]\".format( m ) )\n",
    "\n",
    "ev_to_cgs = 1.60218e-12\n",
    "E_along = 1000 * ev_to_cgs\n",
    "v_along = sqrt( 2 * E_along / m )\n",
    "E_perp = 100 * ev_to_cgs\n",
    "v_perp = sqrt( 2 * E_perp/2 / m )\n",
    "print( \"E_along = {:.3e} [eV] = {:.3e} [erg]\".format( E_along / ev_to_cgs, E_along ) )\n",
    "print( \"E_perp = {:.3e} [eV] = {:.3e} [erg]\".format( E_perp / ev_to_cgs, E_perp ) )\n",
    "print( \"v_along = {:.3e} [cm/s]; p_along = {:.3e} [g * cm/s]\".format( v_along, v_along * m ) )\n",
    "print( \"v_perp = {:.3e} [cm/s]; p_perp = {:.3e} [g * cm/s]\".format( v_perp, v_perp * m ) )"
   ]
  },
  {
   "cell_type": "markdown",
   "metadata": {},
   "source": [
    "It's cyclotron frequency and Larmor radius are `Omega = 1.633e+10 [1/s], r = 3.502e-02 [cm] ~ 0.035 [mm]`.\n",
    "Gyration period equals to `3.848e-10 [s]` and distance in the direction of the field covered \n",
    "during single revolution is `6.959e-01 [cm] ~ 7 [mm]`"
   ]
  },
  {
   "cell_type": "code",
   "execution_count": 10,
   "metadata": {},
   "outputs": [
    {
     "name": "stdout",
     "output_type": "stream",
     "text": [
      "H = 1.000e+03 [Gs]\n",
      "c = 3.000e+10 [cm/s]\n",
      "Omega = 1.633e+10 [1/s]\n",
      "Cyclotron period = 3.848e-10 [s]\n",
      "Single period distance along field= 6.959e-01 [cm]\n",
      "Larmor_r = 3.502e-02 [cm]\n"
     ]
    }
   ],
   "source": [
    "H = 1000\n",
    "speed_of_light = 3.0e10\n",
    "cyclotron_fr = q * H / m / speed_of_light\n",
    "cyclotron_period = 2.0 * pi / cyclotron_fr\n",
    "single_period_distance_along_field = v_along * cyclotron_period\n",
    "larmor_r = m * speed_of_light * sqrt(2 * E_perp / m) / q / H\n",
    "print( \"H = {:.3e} [Gs]\".format( H ) )\n",
    "print( \"c = {:.3e} [cm/s]\".format( speed_of_light ) )\n",
    "print( \"Omega = {:.3e} [1/s]\".format( cyclotron_fr ) )\n",
    "print( \"Cyclotron period = {:.3e} [s]\".format( cyclotron_period ) )\n",
    "print( \"Single period distance along field= {:.3e} [cm]\".format( single_period_distance_along_field ) )\n",
    "print( \"Larmor_r = {:.3e} [cm]\".format( larmor_r ) )"
   ]
  },
  {
   "cell_type": "markdown",
   "metadata": {},
   "source": [
    "Now, to check this, in config file we define a source which\n",
    "generates a single particle at startup. Config is mostly similar\n",
    "to ['Singe Particle in Free Space'](https://github.com/epicf/ef/wiki/Single-Particle-In-Free-Space) example, except this time we need nonzero magnetic field:"
   ]
  },
  {
   "cell_type": "code",
   "execution_count": 6,
   "metadata": {},
   "outputs": [
    {
     "ename": "NameError",
     "evalue": "name 'EfConf' is not defined",
     "output_type": "error",
     "traceback": [
      "\u001b[0;31m---------------------------------------------------------------------------\u001b[0m",
      "\u001b[0;31mNameError\u001b[0m                                 Traceback (most recent call last)",
      "\u001b[0;32m<ipython-input-6-f25d041172bd>\u001b[0m in \u001b[0;36m<module>\u001b[0;34m()\u001b[0m\n\u001b[0;32m----> 1\u001b[0;31m \u001b[0msingle_particle_in_magnetic_field\u001b[0m \u001b[0;34m=\u001b[0m \u001b[0mEfConf\u001b[0m\u001b[0;34m(\u001b[0m\u001b[0;34m)\u001b[0m\u001b[0;34m\u001b[0m\u001b[0m\n\u001b[0m\u001b[1;32m      2\u001b[0m \u001b[0;34m\u001b[0m\u001b[0m\n\u001b[1;32m      3\u001b[0m single_particle_in_magnetic_field.add_field( ExternalFieldMagneticUniform(\n\u001b[1;32m      4\u001b[0m     \u001b[0mmagnetic_field_x\u001b[0m \u001b[0;34m=\u001b[0m \u001b[0;36m0\u001b[0m\u001b[0;34m,\u001b[0m\u001b[0;34m\u001b[0m\u001b[0m\n\u001b[1;32m      5\u001b[0m     \u001b[0mmagnetic_field_y\u001b[0m \u001b[0;34m=\u001b[0m \u001b[0;36m0\u001b[0m\u001b[0;34m,\u001b[0m\u001b[0;34m\u001b[0m\u001b[0m\n",
      "\u001b[0;31mNameError\u001b[0m: name 'EfConf' is not defined"
     ]
    }
   ],
   "source": [
    "single_particle_in_magnetic_field = EfConf()\n",
    "\n",
    "single_particle_in_magnetic_field.add_field( ExternalFieldMagneticUniform(\n",
    "    magnetic_field_x = 0,\n",
    "    magnetic_field_y = 0,\n",
    "    magnetic_field_z = 1000 ))\n"
   ]
  },
  {
   "cell_type": "markdown",
   "metadata": {},
   "source": [
    "Total simulation time has been adjusted to approximately 10 full gyration cycles (more precisely, 3.0e-9/3.848e-10 = 7.8 revolutions )."
   ]
  },
  {
   "cell_type": "code",
   "execution_count": 11,
   "metadata": {},
   "outputs": [
    {
     "name": "stdout",
     "output_type": "stream",
     "text": [
      "10 revolutions time = 3.848e-09 [s]\n",
      "simulation_time = 3.000e-09 [s]\n",
      "n_of_revolutions = 7.8\n",
      "number_of_time_steps = 1000\n",
      "time_step_size = 3.000e-12 [s]\n"
     ]
    }
   ],
   "source": [
    "ten_revolutions_time = 10 * cyclotron_period\n",
    "print( \"10 revolutions time = {:.3e} [s]\".format( ten_revolutions_time ) )\n",
    "\n",
    "sim_time = 3.0e-9\n",
    "n_of_revolutions = sim_time / cyclotron_period\n",
    "n_of_steps = 1000\n",
    "dt = sim_time / n_of_steps\n",
    "print( \"simulation_time = {:.3e} [s]\".format( sim_time ) )\n",
    "print( \"n_of_revolutions = {:.1f}\".format( n_of_revolutions ) )\n",
    "print( \"number_of_time_steps = {:d}\".format( n_of_steps ) )\n",
    "print( \"time_step_size = {:.3e} [s]\".format( dt ) )"
   ]
  },
  {
   "cell_type": "code",
   "execution_count": null,
   "metadata": {
    "collapsed": true
   },
   "outputs": [],
   "source": [
    "single_particle_in_magnetic_field.time_grid = TimeGrid(\n",
    "    total_time = 3.0e-9,\n",
    "    time_step_size = 3.0e-12,\n",
    "    time_save_step = 3.0e-12 )"
   ]
  },
  {
   "cell_type": "markdown",
   "metadata": {},
   "source": [
    "Distance covered is"
   ]
  },
  {
   "cell_type": "code",
   "execution_count": null,
   "metadata": {
    "collapsed": true
   },
   "outputs": [],
   "source": [
    "z_distance = 5\n",
    "t = z_distance / v_along\n",
    "print( \"z_distance = {:f} [cm]\".format( z_distance ) )\n",
    "print( \"t = {:.3e} [s]\".format( t ) )\n"
   ]
  },
  {
   "cell_type": "markdown",
   "metadata": {},
   "source": [
    "_construct remaining fields and run_"
   ]
  },
  {
   "cell_type": "markdown",
   "metadata": {},
   "source": [
    "Processing of simulation results is also mostly similar to the [previous example](https://github.com/epicf/ef/wiki/Single-Particle-in-Free-Space).\n",
    "The law of motion is more complicated this time, and to define it we need not only\n",
    "particle mass and initial position and momentum, but also it's charge and magnitude of the magnetic field.\n",
    "All of this can be extracted from the relevant sections of the output `*.h5` files. \n",
    "(see functions `eval_an_trajectory_at_num_time_points`, `velocities` and `coords` at \n",
    "[plot.py](https://github.com/epicf/ef/blob/dev/examples/single_particle_in_magnetic_field/plot.py))\n",
    "\n",
    "_functions_"
   ]
  },
  {
   "cell_type": "markdown",
   "metadata": {},
   "source": [
    "Trajectory plots:\n",
    "\n",
    "_figures_"
   ]
  },
  {
   "cell_type": "markdown",
   "metadata": {},
   "source": [
    "Apart from the trajectory, kinetic energy is also plotted. \n",
    "In theory, particle should not gain or loss any energy by interacting with magnetic field. \n",
    "However, [due to numerical errors](https://en.wikipedia.org/wiki/Energy_drift), this might not be the case in simulations. In this case, the energy is conserved.\n",
    "\n",
    "_figures_"
   ]
  },
  {
   "cell_type": "markdown",
   "metadata": {},
   "source": [
    "**Long Simulation Time**  \n",
    "[Boris](https://en.wikipedia.org/wiki/Particle-in-cell#The_particle_mover) integration scheme is [notable](http://aip.scitation.org/doi/abs/10.1063/1.4818428?journalCode=php) for energy conservation even for long simulation times. \n",
    "\n",
    "_config and results_"
   ]
  },
  {
   "cell_type": "markdown",
   "metadata": {},
   "source": [
    "**Time Step Larger Than Gyration Period**  \n",
    "In practice it is necessary to keep in mind that time step should not exceed gyration period. \n",
    "Otherwise, this will lead to erroneous results.\n",
    "\n",
    "_config and results_"
   ]
  },
  {
   "cell_type": "code",
   "execution_count": null,
   "metadata": {
    "collapsed": true
   },
   "outputs": [],
   "source": []
  }
 ],
 "metadata": {
  "kernelspec": {
   "display_name": "Python 3",
   "language": "python",
   "name": "python3"
  },
  "language_info": {
   "codemirror_mode": {
    "name": "ipython",
    "version": 3
   },
   "file_extension": ".py",
   "mimetype": "text/x-python",
   "name": "python",
   "nbconvert_exporter": "python",
   "pygments_lexer": "ipython3",
   "version": "3.4.2"
  }
 },
 "nbformat": 4,
 "nbformat_minor": 2
}
