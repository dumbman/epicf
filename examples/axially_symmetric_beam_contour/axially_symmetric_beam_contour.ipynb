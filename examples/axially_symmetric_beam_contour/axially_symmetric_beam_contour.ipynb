{
 "cells": [
  {
   "cell_type": "code",
   "execution_count": 1,
   "metadata": {},
   "outputs": [],
   "source": [
    "import os\n",
    "import sys\n",
    "jupyter_module_path = os.path.join( os.getcwd(), '..', '..', 'jupyter' )\n",
    "sys.path.append( jupyter_module_path )\n",
    "\n",
    "from ef_jupyter_visualize import *"
   ]
  },
  {
   "cell_type": "markdown",
   "metadata": {
    "collapsed": true
   },
   "source": [
    "In this example, an equation for a contour of an axially symmetric\n",
    "beam propagating in free space is checked."
   ]
  },
  {
   "cell_type": "markdown",
   "metadata": {},
   "source": [
    "Suppose there is an axially symmetric charged particles beam propagating\n",
    "in free space.\n",
    "Under certain set of approximations, trajectory of a particle on the edge \n",
    "of the beam can be described by the following expressions:\n",
    "\n",
    "<!-- ![](http://mathurl.com/y7dt7wdq.png) -->\n",
    "\\begin{align}\n",
    "  & r = r(0) e^{u^2}\n",
    "  \\\\\n",
    "  & z = \n",
    "  \\left( \\dfrac{m v^3}{q I} \\right)^{1/2}\n",
    "  r(0)\n",
    "  \\int_{0}^{u} e^{u^2} du\n",
    "\\end{align}\n",
    "\n",
    "\n",
    "where $u$ is a parameter, $v$ is speed of particles along the $z$ axis,\n",
    "$r(0)$ is initial radius and $I$ is full current of the beam.\n",
    "Derivation of these relations can be found in supplementary notebook [link]."
   ]
  },
  {
   "cell_type": "markdown",
   "metadata": {},
   "source": [
    "These equations define a contour of the beam $r(z)$. It is possible to perform \n",
    "a numerical simulation of a beam propagating in free space and \n",
    "plot particles coordinates on the X-Z or Y-Z plane. \n",
    "This will allow to compare the numerical profile\n",
    "with the analytical expression. "
   ]
  },
  {
   "cell_type": "markdown",
   "metadata": {},
   "source": [
    "The beam will become $e = 2.71$ times wider than the initial at $u = 1$.\n",
    "For this value of the parameter, the integral in the $z$ equation \n",
    "[approximately equals to](https://www.wolframalpha.com/input/?i=integrate%28+e^u^2,+u,+0,+1+%29) $1.46$. \n",
    "Since the speed in the $z$-direction is assumed constant, it is possible to estimate the time needed for  \n",
    "particles to pass this distance as\n",
    "\n",
    "<!-- ![](http://mathurl.com/yaaqzzhs.png) -->\n",
    "\\begin{align}\n",
    "  t \\approx \n",
    "  1.5 \\left( \\dfrac{m v}{q I} \\right)^{1/2}\n",
    "  r(0)\n",
    "\\end{align}"
   ]
  },
  {
   "cell_type": "markdown",
   "metadata": {},
   "source": [
    "Let's substitute some numerical values (see the cell below). Suppose there is an electron beam ($q = 4.8 \\cdot 10^{-10} ~ [\\mbox{cgs}], ~ m = 9.1 \\cdot 10^{-28} ~ [\\mbox{g}]$) with full current $I = 0.1 ~ [\\mbox{A}] = 2.998 \\cdot 10^{8} ~ [\\mbox{cgs}]$ and initial radius $r(0) = 0.5 ~ [\\mbox{cm}]$. \n",
    "Energy of it's particles equals to 1 keV, so that speed is $v = 1.808 \\cdot 10^{9} ~ [\\mbox{cm/s}]$.\n",
    "For this beam to get $2.71$ times wider (from $0.5 ~ [\\mbox{cm}]$ to $1.36 ~ [\\mbox{cm}]$), it takes $t = 2.63 \\cdot 10^{-9} ~ [\\mbox{s}]$ seconds.\n",
    "This happens over a distance $z = 4.632 ~ [\\mbox{cm}]$."
   ]
  },
  {
   "cell_type": "code",
   "execution_count": 2,
   "metadata": {},
   "outputs": [
    {
     "name": "stdout",
     "output_type": "stream",
     "text": [
      "q = 4.800e-10 [cgs]\n",
      "m = 9.800e-28 [g]\n",
      "beam_radius = 5.000e-01 [cm]\n",
      "I = 1.000e-01 [A] = 2.998e+08 [cgs]\n",
      "E = 1.000e+03 [eV] = 1.602e-09 [erg]\n",
      "v = 1.808e+09 [cm/s]\n",
      "r0_e_times_wider = 1.359e+00 [cm]\n",
      "t_e_times_wider = 2.632e-09 [s]\n",
      "z_e_times_wider = 4.632e+00 [cm]\n"
     ]
    }
   ],
   "source": [
    "from math import *\n",
    "\n",
    "m = 9.8e-28\n",
    "q = 4.8e-10\n",
    "print( \"q = {:.3e} [cgs]\".format( q ) )\n",
    "print( \"m = {:.3e} [g]\".format( m ) )\n",
    "\n",
    "r_0 = 0.5\n",
    "print( \"beam_radius = {:.3e} [cm]\".format( r_0 ) )\n",
    "\n",
    "ampere_to_cgs = 2997924536.8431\n",
    "I = 0.1 * ampere_to_cgs\n",
    "print( \"I = {:.3e} [A] = {:.3e} [cgs]\".format( I / ampere_to_cgs, I ) )\n",
    "\n",
    "ev_to_cgs = 1.60218e-12\n",
    "E = 1000 * ev_to_cgs\n",
    "v = sqrt( 2 * E / m )\n",
    "print( \"E = {:.3e} [eV] = {:.3e} [erg]\".format( E / ev_to_cgs, E ) )\n",
    "print( \"v = {:.3e} [cm/s]\".format( v ) )\n",
    "\n",
    "r0_e_times_wider = e * r_0\n",
    "z_e_times_wider = 1.46 * sqrt( m * v**3 / q / I ) * r_0\n",
    "t_e_times_wider = 1.5 * sqrt( m * v / q / I ) * r_0\n",
    "print( \"r0_e_times_wider = {:.3e} [cm]\".format( r0_e_times_wider ) )\n",
    "print( \"t_e_times_wider = {:.3e} [s]\".format( t_e_times_wider ) )\n",
    "print( \"z_e_times_wider = {:.3e} [cm]\".format( z_e_times_wider ) )"
   ]
  },
  {
   "cell_type": "markdown",
   "metadata": {},
   "source": [
    "These estimates can be used as a basis for config file parameters. "
   ]
  },
  {
   "cell_type": "code",
   "execution_count": 3,
   "metadata": {},
   "outputs": [],
   "source": [
    "axially_symmetric_beam_conf = EfConf()"
   ]
  },
  {
   "cell_type": "markdown",
   "metadata": {},
   "source": [
    "Full simulation time is set to 3.0e-9 [s]. There are 100 time steps, with each 10th step written to file."
   ]
  },
  {
   "cell_type": "code",
   "execution_count": 4,
   "metadata": {},
   "outputs": [
    {
     "name": "stdout",
     "output_type": "stream",
     "text": [
      "simulation_time = 3.000e-09 [s]\n",
      "number_of_time_steps = 100\n",
      "time_step_size = 3.000e-11 [s]\n",
      "time_save_step = 3.000e-10 [s]\n",
      "{'Time grid': {'total_time': 3e-09, 'time_save_step': 3e-10, 'time_step_size': 3e-11}}\n"
     ]
    }
   ],
   "source": [
    "sim_time = 3.0e-9\n",
    "n_of_steps = 100\n",
    "dt = sim_time / n_of_steps\n",
    "save_each_step = 10\n",
    "dt_save = dt * save_each_step\n",
    "print( \"simulation_time = {:.3e} [s]\".format( sim_time ) )\n",
    "print( \"number_of_time_steps = {:d}\".format( n_of_steps ) )\n",
    "print( \"time_step_size = {:.3e} [s]\".format( dt ) )\n",
    "print( \"time_save_step = {:.3e} [s]\".format( dt_save ))\n",
    "\n",
    "axially_symmetric_beam_conf.time_grid.total_time = sim_time\n",
    "axially_symmetric_beam_conf.time_grid.time_step_size = dt\n",
    "axially_symmetric_beam_conf.time_grid.time_save_step = dt_save\n",
    "\n",
    "print( axially_symmetric_beam_conf.time_grid.export() )"
   ]
  },
  {
   "cell_type": "markdown",
   "metadata": {},
   "source": [
    "The simulation domain is defined as"
   ]
  },
  {
   "cell_type": "code",
   "execution_count": 5,
   "metadata": {},
   "outputs": [],
   "source": [
    "axially_symmetric_beam_conf.spatial_mesh = SpatialMesh(\n",
    "    grid_x_size = 5.0, \n",
    "    grid_x_step = 0.1,\n",
    "    grid_y_size = 5.0, \n",
    "    grid_y_step = 0.1,\n",
    "    grid_z_size = 10.0,\n",
    "    grid_z_step = 0.1 )"
   ]
  },
  {
   "cell_type": "markdown",
   "metadata": {},
   "source": [
    "with z size approximately two times the estimated value, with 100 nodes in that direction. X and y sizes are 10 times the radius with 50 nodes in each direction."
   ]
  },
  {
   "cell_type": "markdown",
   "metadata": {},
   "source": [
    "The source is centered along the x and y axes and is close to origin along the z. For a time step dt = 3.00e-11 [s], to provide a current I = 0.1 [A] the source has to generate $n = I ~ dt ~/~ q = 1.87 \\cdot 10^7$ particles each time step. This is not computationally feasible, so instead let's fix an amount of generated particles to 5000 at each step. The charge of macroparticles should be $Q = I ~ dt ~/~ n = 1.799 \\cdot 10^{-6} ~ [\\mbox{cgs}]$ To preserve charge-to-mass ratio, mass of the macroparticles should be set to $M = Q ~/~ q_e ~ m_e = 3.672 \\cdot 10^{-24} ~ [\\mbox{g}]$. To have the same initial velocity as electrons, mean momentum should be set to $p = M ~ v = 6.641 \\cdot 10^{-15} ~ [\\mbox{g * cm / s}]$."
   ]
  },
  {
   "cell_type": "code",
   "execution_count": 6,
   "metadata": {},
   "outputs": [
    {
     "name": "stdout",
     "output_type": "stream",
     "text": [
      "num_of_real_particles = 1.874e+07\n",
      "num_of_macro_particles = 5000\n",
      "macro_q = 1.799e-06 [cgs]\n",
      "macro_m = 3.672e-24 [g]\n",
      "macro_mean_momentum = 6.641e-15 [g * cm / s]\n"
     ]
    }
   ],
   "source": [
    "num_of_real_particles = I * dt / q\n",
    "print( \"num_of_real_particles = {:.3e}\".format( num_of_real_particles ) )\n",
    "\n",
    "num_of_macro_particles = 5000\n",
    "macro_q = I * dt / num_of_macro_particles\n",
    "macro_m = macro_q / q * m\n",
    "macro_mean_momentum = macro_m * v\n",
    "print( \"num_of_macro_particles = {:d}\".format( num_of_macro_particles ) )\n",
    "print( \"macro_q = {:.3e} [cgs]\".format( macro_q ) )\n",
    "print( \"macro_m = {:.3e} [g]\".format( macro_m ) )\n",
    "print( \"macro_mean_momentum = {:.3e} [g * cm / s]\".format( macro_mean_momentum ) )\n",
    "\n",
    "\n",
    "axially_symmetric_beam_conf.add_source( ParticleSourceCylinder(\n",
    "    name = \"cathode_emitter\",\n",
    "    initial_number_of_particles = num_of_macro_particles,\n",
    "    particles_to_generate_each_step = num_of_macro_particles,\n",
    "    cylinder_axis_start_x = axially_symmetric_beam_conf.spatial_mesh.grid_x_size / 2,\n",
    "    cylinder_axis_start_y = axially_symmetric_beam_conf.spatial_mesh.grid_y_size / 2,\n",
    "    cylinder_axis_start_z = 0.51,\n",
    "    cylinder_axis_end_x = axially_symmetric_beam_conf.spatial_mesh.grid_x_size / 2,\n",
    "    cylinder_axis_end_y = axially_symmetric_beam_conf.spatial_mesh.grid_y_size / 2,\n",
    "    cylinder_axis_end_z = 0.52,\n",
    "    cylinder_radius = 0.5,\n",
    "    mean_momentum_x = 0,\n",
    "    mean_momentum_y = 0,\n",
    "    mean_momentum_z = macro_mean_momentum,\n",
    "    temperature = 0.0,\n",
    "    charge = -macro_q,\n",
    "    mass = macro_m \n",
    "))"
   ]
  },
  {
   "cell_type": "code",
   "execution_count": 7,
   "metadata": {},
   "outputs": [
    {
     "data": {
      "image/png": "[encoded data removed]",
      "text/plain": [
       "<matplotlib.figure.Figure at 0x7f28b1ad6550>"
      ]
     },
     "metadata": {},
     "output_type": "display_data"
    }
   ],
   "source": [
    "axially_symmetric_beam_conf.visualize()"
   ]
  },
  {
   "cell_type": "markdown",
   "metadata": {},
   "source": [
    "Potential is zero on each boundary of the domain."
   ]
  },
  {
   "cell_type": "code",
   "execution_count": 8,
   "metadata": {
    "collapsed": true
   },
   "outputs": [],
   "source": [
    "axially_symmetric_beam_conf.boundary_conditions = BoundaryConditions( \n",
    "    boundary_phi_right = 0, boundary_phi_left = 0,\n",
    "    boundary_phi_bottom = 0, boundary_phi_top = 0,\n",
    "    boundary_phi_near = 0, boundary_phi_far = 0 \n",
    ")"
   ]
  },
  {
   "cell_type": "markdown",
   "metadata": {},
   "source": [
    "Other config parameters:"
   ]
  },
  {
   "cell_type": "code",
   "execution_count": 13,
   "metadata": {
    "collapsed": true
   },
   "outputs": [],
   "source": [
    "axially_symmetric_beam_conf.output_file = OutputFile(\n",
    "    output_filename_prefix = \"contour_jup_\", \n",
    "    output_filename_suffix = \".h5\")\n",
    "axially_symmetric_beam_conf.particle_interaction_model = ParticleInteractionModel(\n",
    "    particle_interaction_model = \"PIC\" )"
   ]
  },
  {
   "cell_type": "code",
   "execution_count": 14,
   "metadata": {},
   "outputs": [
    {
     "name": "stdout",
     "output_type": "stream",
     "text": [
      "[ParticleInteractionModel]\n",
      "particle_interaction_model  =  PIC\n",
      "\n",
      "[OutputFilename]\n",
      "output_filename_prefix  =  contour_jup_\n",
      "output_filename_suffix  =  .h5\n",
      "\n",
      "[BoundaryConditions]\n",
      "boundary_phi_top  =  0\n",
      "boundary_phi_bottom  =  0\n",
      "boundary_phi_near  =  0\n",
      "boundary_phi_left  =  0\n",
      "boundary_phi_far  =  0\n",
      "boundary_phi_right  =  0\n",
      "\n",
      "[Time grid]\n",
      "total_time  =  3e-09\n",
      "time_save_step  =  3e-10\n",
      "time_step_size  =  3e-11\n",
      "\n",
      "[ParticleSourceCylinder.cathode_emitter]\n",
      "cylinder_axis_start_x  =  2.5\n",
      "charge  =  -1.7987547221058602e-06\n",
      "mean_momentum_y  =  0\n",
      "temperature  =  0.0\n",
      "cylinder_axis_start_z  =  0.51\n",
      "cylinder_axis_start_y  =  2.5\n",
      "mean_momentum_x  =  0\n",
      "particles_to_generate_each_step  =  5000\n",
      "cylinder_axis_end_y  =  2.5\n",
      "cylinder_axis_end_x  =  2.5\n",
      "mean_momentum_z  =  6.640708217582056e-15\n",
      "initial_number_of_particles  =  5000\n",
      "cylinder_radius  =  0.5\n",
      "cylinder_axis_end_z  =  0.52\n",
      "mass  =  3.672457557632798e-24\n",
      "\n",
      "[SpatialMesh]\n",
      "grid_x_size  =  5.0\n",
      "grid_y_size  =  5.0\n",
      "grid_y_step  =  0.1\n",
      "grid_z_size  =  10.0\n",
      "grid_z_step  =  0.1\n",
      "grid_x_step  =  0.1\n",
      "\n"
     ]
    }
   ],
   "source": [
    "axially_symmetric_beam_conf.print_config()"
   ]
  },
  {
   "cell_type": "code",
   "execution_count": 15,
   "metadata": {},
   "outputs": [
    {
     "name": "stdout",
     "output_type": "stream",
     "text": [
      "command: python3 ../../main.py /tmp/tmp7as_k8j8.ini\n",
      "b'Config file is:  /tmp/tmp7as_k8j8.ini'\n",
      "b'[ ParticleInteractionModel ]'\n",
      "b'particle_interaction_model = PIC'\n",
      "b'[ OutputFilename ]'\n",
      "b'output_filename_prefix = contour_jup_'\n",
      "b'output_filename_suffix = .h5'\n",
      "b'[ BoundaryConditions ]'\n",
      "b'boundary_phi_top = 0'\n",
      "b'boundary_phi_bottom = 0'\n",
      "b'boundary_phi_near = 0'\n",
      "b'boundary_phi_left = 0'\n",
      "b'boundary_phi_far = 0'\n",
      "b'boundary_phi_right = 0'\n",
      "b'[ Time grid ]'\n",
      "b'total_time = 3e-09'\n",
      "b'time_save_step = 3e-10'\n",
      "b'time_step_size = 3e-11'\n",
      "b'[ ParticleSourceCylinder.cathode_emitter ]'\n",
      "b'cylinder_axis_start_x = 2.5'\n",
      "b'charge = -1.7987547221058602e-06'\n",
      "b'mean_momentum_y = 0'\n",
      "b'temperature = 0.0'\n",
      "b'cylinder_axis_start_z = 0.51'\n",
      "b'cylinder_axis_start_y = 2.5'\n",
      "b'mean_momentum_x = 0'\n",
      "b'particles_to_generate_each_step = 5000'\n",
      "b'cylinder_axis_end_y = 2.5'\n",
      "b'cylinder_axis_end_x = 2.5'\n",
      "b'mean_momentum_z = 6.640708217582056e-15'\n",
      "b'initial_number_of_particles = 5000'\n",
      "b'cylinder_radius = 0.5'\n",
      "b'cylinder_axis_end_z = 0.52'\n",
      "b'mass = 3.672457557632798e-24'\n",
      "b'[ SpatialMesh ]'\n",
      "b'grid_x_size = 5.0'\n",
      "b'grid_y_size = 5.0'\n",
      "b'grid_y_step = 0.1'\n",
      "b'grid_z_size = 10.0'\n",
      "b'grid_z_step = 0.1'\n",
      "b'grid_x_step = 0.1'\n",
      "b'262701 262701'\n",
      "b'Writing step 0 to file contour_jup_0000000.h5'\n",
      "b'262701 262701'\n",
      "b'Source name = cathode_emitter, number of particles = 5000'\n",
      "b'Time step from 0 to 1 of 100'\n",
      "b'Time step from 1 to 2 of 100'\n",
      "b'Time step from 2 to 3 of 100'\n",
      "b'Time step from 3 to 4 of 100'\n",
      "b'Time step from 4 to 5 of 100'\n",
      "b'Time step from 5 to 6 of 100'\n",
      "b'Time step from 6 to 7 of 100'\n",
      "b'Time step from 7 to 8 of 100'\n",
      "b'Time step from 8 to 9 of 100'\n",
      "b'Time step from 9 to 10 of 100'\n",
      "b'Writing step 10 to file contour_jup_0000010.h5'\n",
      "b'262701 262701'\n",
      "b'Source name = cathode_emitter, number of particles = 55000'\n",
      "b'Time step from 10 to 11 of 100'\n",
      "b'Time step from 11 to 12 of 100'\n",
      "b'Time step from 12 to 13 of 100'\n",
      "b'Time step from 13 to 14 of 100'\n",
      "b'Time step from 14 to 15 of 100'\n",
      "b'Time step from 15 to 16 of 100'\n",
      "b'Time step from 16 to 17 of 100'\n",
      "b'Time step from 17 to 18 of 100'\n",
      "b'Time step from 18 to 19 of 100'\n",
      "b'Time step from 19 to 20 of 100'\n",
      "b'Writing step 20 to file contour_jup_0000020.h5'\n",
      "b'262701 262701'\n",
      "b'Source name = cathode_emitter, number of particles = 105000'\n",
      "b'Time step from 20 to 21 of 100'\n",
      "b'Time step from 21 to 22 of 100'\n",
      "b'Time step from 22 to 23 of 100'\n",
      "b'Time step from 23 to 24 of 100'\n",
      "b'Time step from 24 to 25 of 100'\n",
      "b'Time step from 25 to 26 of 100'\n",
      "b'Time step from 26 to 27 of 100'\n",
      "b'Time step from 27 to 28 of 100'\n",
      "b'Time step from 28 to 29 of 100'\n",
      "b'Time step from 29 to 30 of 100'\n",
      "b'Writing step 30 to file contour_jup_0000030.h5'\n",
      "b'262701 262701'\n",
      "b'Source name = cathode_emitter, number of particles = 155000'\n",
      "b'Time step from 30 to 31 of 100'\n",
      "b'Time step from 31 to 32 of 100'\n",
      "b'Time step from 32 to 33 of 100'\n",
      "b'Time step from 33 to 34 of 100'\n",
      "b'Time step from 34 to 35 of 100'\n",
      "b'Time step from 35 to 36 of 100'\n",
      "b'Time step from 36 to 37 of 100'\n",
      "b'Time step from 37 to 38 of 100'\n",
      "b'Time step from 38 to 39 of 100'\n",
      "b'Time step from 39 to 40 of 100'\n",
      "b'Writing step 40 to file contour_jup_0000040.h5'\n",
      "b'262701 262701'\n",
      "b'Source name = cathode_emitter, number of particles = 205000'\n",
      "b'Time step from 40 to 41 of 100'\n",
      "b'Time step from 41 to 42 of 100'\n",
      "b'Time step from 42 to 43 of 100'\n",
      "b'Time step from 43 to 44 of 100'\n",
      "b'Time step from 44 to 45 of 100'\n",
      "b'Time step from 45 to 46 of 100'\n",
      "b'Time step from 46 to 47 of 100'\n",
      "b'Time step from 47 to 48 of 100'\n",
      "b'Time step from 48 to 49 of 100'\n",
      "b'Time step from 49 to 50 of 100'\n",
      "b'Writing step 50 to file contour_jup_0000050.h5'\n",
      "b'262701 262701'\n",
      "b'Source name = cathode_emitter, number of particles = 255000'\n",
      "b'Time step from 50 to 51 of 100'\n",
      "b'Time step from 51 to 52 of 100'\n",
      "b'Time step from 52 to 53 of 100'\n",
      "b'Time step from 53 to 54 of 100'\n",
      "b'Time step from 54 to 55 of 100'\n",
      "b'Time step from 55 to 56 of 100'\n",
      "b'Time step from 56 to 57 of 100'\n",
      "b'Time step from 57 to 58 of 100'\n",
      "b'Time step from 58 to 59 of 100'\n",
      "b'Time step from 59 to 60 of 100'\n",
      "b'Writing step 60 to file contour_jup_0000060.h5'\n",
      "b'262701 262701'\n",
      "b'Source name = cathode_emitter, number of particles = 305000'\n",
      "b'Time step from 60 to 61 of 100'\n",
      "b'Time step from 61 to 62 of 100'\n",
      "b'Time step from 62 to 63 of 100'\n",
      "b'Time step from 63 to 64 of 100'\n",
      "b'Time step from 64 to 65 of 100'\n",
      "b'Time step from 65 to 66 of 100'\n",
      "b'Time step from 66 to 67 of 100'\n",
      "b'Time step from 67 to 68 of 100'\n",
      "b'Time step from 68 to 69 of 100'\n",
      "b'Time step from 69 to 70 of 100'\n",
      "b'Writing step 70 to file contour_jup_0000070.h5'\n",
      "b'262701 262701'\n",
      "b'Source name = cathode_emitter, number of particles = 355000'\n",
      "b'Time step from 70 to 71 of 100'\n",
      "b'Time step from 71 to 72 of 100'\n",
      "b'Time step from 72 to 73 of 100'\n",
      "b'Time step from 73 to 74 of 100'\n",
      "b'Time step from 74 to 75 of 100'\n",
      "b'Time step from 75 to 76 of 100'\n",
      "b'Time step from 76 to 77 of 100'\n",
      "b'Time step from 77 to 78 of 100'\n",
      "b'Time step from 78 to 79 of 100'\n",
      "b'Time step from 79 to 80 of 100'\n",
      "b'Writing step 80 to file contour_jup_0000080.h5'\n",
      "b'262701 262701'\n",
      "b'Source name = cathode_emitter, number of particles = 405000'\n",
      "b'Time step from 80 to 81 of 100'\n",
      "b'Time step from 81 to 82 of 100'\n",
      "b'Time step from 82 to 83 of 100'\n",
      "b'Time step from 83 to 84 of 100'\n",
      "b'Time step from 84 to 85 of 100'\n",
      "b'Time step from 85 to 86 of 100'\n",
      "b'Time step from 86 to 87 of 100'\n",
      "b'Time step from 87 to 88 of 100'\n",
      "b'Time step from 88 to 89 of 100'\n",
      "b'Time step from 89 to 90 of 100'\n",
      "b'Writing step 90 to file contour_jup_0000090.h5'\n",
      "b'262701 262701'\n",
      "b'Source name = cathode_emitter, number of particles = 455000'\n",
      "b'Time step from 90 to 91 of 100'\n",
      "b'Time step from 91 to 92 of 100'\n",
      "b'Time step from 92 to 93 of 100'\n",
      "b'Time step from 93 to 94 of 100'\n",
      "b'Time step from 94 to 95 of 100'\n",
      "b'Time step from 95 to 96 of 100'\n",
      "b'Time step from 96 to 97 of 100'\n",
      "b'Time step from 97 to 98 of 100'\n",
      "b'Time step from 98 to 99 of 100'\n",
      "b'Time step from 99 to 100 of 100'\n",
      "b'Writing step 100 to file contour_jup_0000100.h5'\n",
      "b'262701 262701'\n",
      "b'Source name = cathode_emitter, number of particles = 505000'\n"
     ]
    },
    {
     "ename": "KeyboardInterrupt",
     "evalue": "",
     "output_type": "error",
     "traceback": [
      "\u001b[0;31m---------------------------------------------------------------------------\u001b[0m",
      "\u001b[0;31mKeyboardInterrupt\u001b[0m                         Traceback (most recent call last)",
      "\u001b[0;32m<ipython-input-15-42e29e57de8a>\u001b[0m in \u001b[0;36m<module>\u001b[0;34m()\u001b[0m\n\u001b[1;32m      2\u001b[0m     \u001b[0mef_command\u001b[0m \u001b[0;34m=\u001b[0m \u001b[0;34m\"python3 ../../main.py\"\u001b[0m\u001b[0;34m,\u001b[0m\u001b[0;34m\u001b[0m\u001b[0m\n\u001b[1;32m      3\u001b[0m     \u001b[0mworkdir\u001b[0m \u001b[0;34m=\u001b[0m \u001b[0;34m\"./\"\u001b[0m\u001b[0;34m,\u001b[0m\u001b[0;34m\u001b[0m\u001b[0m\n\u001b[0;32m----> 4\u001b[0;31m     save_config_as = None)\n\u001b[0m",
      "\u001b[0;32m~/progs/python/ef_python/examples/axially_symmetric_beam_contour/../../jupyter/ef_jupyter_visualize.py\u001b[0m in \u001b[0;36mrun\u001b[0;34m(self, ef_command, workdir, save_config_as)\u001b[0m\n\u001b[1;32m    124\u001b[0m             \u001b[0mcommand\u001b[0m \u001b[0;34m=\u001b[0m \u001b[0mef_command\u001b[0m \u001b[0;34m+\u001b[0m \u001b[0;34m\" \"\u001b[0m \u001b[0;34m+\u001b[0m \u001b[0mtmpfilename\u001b[0m\u001b[0;34m\u001b[0m\u001b[0m\n\u001b[1;32m    125\u001b[0m         \u001b[0mprint\u001b[0m\u001b[0;34m(\u001b[0m \u001b[0;34m\"command:\"\u001b[0m\u001b[0;34m,\u001b[0m \u001b[0mcommand\u001b[0m \u001b[0;34m)\u001b[0m\u001b[0;34m\u001b[0m\u001b[0m\n\u001b[0;32m--> 126\u001b[0;31m         \u001b[0mself\u001b[0m\u001b[0;34m.\u001b[0m\u001b[0mrun_command\u001b[0m\u001b[0;34m(\u001b[0m \u001b[0mcommand\u001b[0m \u001b[0;34m)\u001b[0m\u001b[0;34m\u001b[0m\u001b[0m\n\u001b[0m\u001b[1;32m    127\u001b[0m         \u001b[0;31m#stdout = subprocess.Popen( command, shell = True,\u001b[0m\u001b[0;34m\u001b[0m\u001b[0;34m\u001b[0m\u001b[0m\n\u001b[1;32m    128\u001b[0m         \u001b[0;31m#                           stdout = subprocess.PIPE ).stdout.read()\u001b[0m\u001b[0;34m\u001b[0m\u001b[0;34m\u001b[0m\u001b[0m\n",
      "\u001b[0;32m~/progs/python/ef_python/examples/axially_symmetric_beam_contour/../../jupyter/ef_jupyter_visualize.py\u001b[0m in \u001b[0;36mrun_command\u001b[0;34m(self, command)\u001b[0m\n\u001b[1;32m    151\u001b[0m         \u001b[0mprocess\u001b[0m \u001b[0;34m=\u001b[0m \u001b[0msubprocess\u001b[0m\u001b[0;34m.\u001b[0m\u001b[0mPopen\u001b[0m\u001b[0;34m(\u001b[0m\u001b[0mshlex\u001b[0m\u001b[0;34m.\u001b[0m\u001b[0msplit\u001b[0m\u001b[0;34m(\u001b[0m\u001b[0mcommand\u001b[0m\u001b[0;34m)\u001b[0m\u001b[0;34m,\u001b[0m \u001b[0mstdout\u001b[0m\u001b[0;34m=\u001b[0m\u001b[0msubprocess\u001b[0m\u001b[0;34m.\u001b[0m\u001b[0mPIPE\u001b[0m\u001b[0;34m)\u001b[0m\u001b[0;34m\u001b[0m\u001b[0m\n\u001b[1;32m    152\u001b[0m         \u001b[0;32mwhile\u001b[0m \u001b[0;32mTrue\u001b[0m\u001b[0;34m:\u001b[0m\u001b[0;34m\u001b[0m\u001b[0m\n\u001b[0;32m--> 153\u001b[0;31m             \u001b[0moutput\u001b[0m \u001b[0;34m=\u001b[0m \u001b[0mprocess\u001b[0m\u001b[0;34m.\u001b[0m\u001b[0mstdout\u001b[0m\u001b[0;34m.\u001b[0m\u001b[0mreadline\u001b[0m\u001b[0;34m(\u001b[0m\u001b[0;34m)\u001b[0m\u001b[0;34m\u001b[0m\u001b[0m\n\u001b[0m\u001b[1;32m    154\u001b[0m             \u001b[0;32mif\u001b[0m \u001b[0moutput\u001b[0m \u001b[0;34m==\u001b[0m \u001b[0;34m''\u001b[0m \u001b[0;32mand\u001b[0m \u001b[0mprocess\u001b[0m\u001b[0;34m.\u001b[0m\u001b[0mpoll\u001b[0m\u001b[0;34m(\u001b[0m\u001b[0;34m)\u001b[0m \u001b[0;32mis\u001b[0m \u001b[0;32mnot\u001b[0m \u001b[0;32mNone\u001b[0m\u001b[0;34m:\u001b[0m\u001b[0;34m\u001b[0m\u001b[0m\n\u001b[1;32m    155\u001b[0m                 \u001b[0;32mbreak\u001b[0m\u001b[0;34m\u001b[0m\u001b[0m\n",
      "\u001b[0;31mKeyboardInterrupt\u001b[0m: "
     ]
    }
   ],
   "source": [
    "axially_symmetric_beam_conf.run( \n",
    "    ef_command = \"python3 ../../main.py\", \n",
    "    workdir = \"./\",\n",
    "    save_config_as = None)"
   ]
  },
  {
   "cell_type": "code",
   "execution_count": 16,
   "metadata": {},
   "outputs": [
    {
     "data": {
      "image/png": "[encoded data removed]",
      "text/plain": [
       "<matplotlib.figure.Figure at 0x7f28af6e71d0>"
      ]
     },
     "metadata": {},
     "output_type": "display_data"
    }
   ],
   "source": [
    "import h5py\n",
    "import numpy as np\n",
    "import matplotlib.pyplot as plt\n",
    "import scipy.integrate\n",
    "\n",
    "filename = 'contour_jup_0000100.h5'\n",
    "h5file = h5py.File( filename, mode = \"r\" )\n",
    "\n",
    "def get_source_current( h5file ):\n",
    "    time_step = h5file[\"/TimeGrid\"].attrs[\"time_step_size\"]\n",
    "    charge = h5file[\"/ParticleSources/cathode_emitter\"].attrs[\"charge\"]\n",
    "    particles_per_step = h5file[\n",
    "        \"/ParticleSources/cathode_emitter\"].attrs[\"particles_to_generate_each_step\"]\n",
    "    current = particles_per_step * charge / time_step\n",
    "    return current\n",
    "    \n",
    "def get_source_geometry( h5file ):\n",
    "    axis_start_x = \\\n",
    "        h5file[\"/ParticleSources/cathode_emitter\"].attrs[\"cylinder_axis_start_x\"]\n",
    "    axis_start_z = \\\n",
    "        h5file[\"/ParticleSources/cathode_emitter\"].attrs[\"cylinder_axis_start_z\"]\n",
    "    radius = h5file[\"/ParticleSources/cathode_emitter\"].attrs[\"cylinder_radius\"]\n",
    "    return ( axis_start_x, axis_start_z, radius )\n",
    "\n",
    "def get_source_particle_parameters( h5file ):\n",
    "    mass = h5file[\"/ParticleSources/cathode_emitter\"].attrs[\"mass\"]\n",
    "    charge = h5file[\"/ParticleSources/cathode_emitter\"].attrs[\"charge\"]\n",
    "    momentum_z = h5file[\"/ParticleSources/cathode_emitter\"].attrs[\"mean_momentum_z\"]\n",
    "    return ( mass, charge, momentum_z )\n",
    "\n",
    "def beam_radius( u, r_0 ):\n",
    "    return r_0 * np.exp( u ** 2 )\n",
    "\n",
    "def beam_z( u, m, v, q, I, r_0 ):\n",
    "    coeff = np.sqrt( m * v**3 / q / I ) * r_0\n",
    "    subint = lambda t: np.exp( t * t )\n",
    "    low_lim = 0\n",
    "    up_lim = u\n",
    "    integral_value = scipy.integrate.quad( subint, low_lim, up_lim )[0]\n",
    "    return coeff * integral_value\n",
    "\n",
    "beam_axis_x_pos, emitter_z_pos, r_0 = get_source_geometry( h5file )\n",
    "I = get_source_current( h5file )\n",
    "m, q, p = get_source_particle_parameters( h5file )\n",
    "v = p / m\n",
    "\n",
    "u_min = 0; u_max = 2; num_u_points = 100  # for u = 1, r = r(0) * 2.71812\n",
    "u = np.linspace( u_min, u_max, num_u_points )\n",
    "r_an = [ beam_radius( x, r_0 ) for x in u ]\n",
    "r_an_upper = r_an + beam_axis_x_pos\n",
    "r_an_lower = beam_axis_x_pos - r_an \n",
    "z_an = [ beam_z( x, m = m, v = v, q = q, I = I, r_0 = r_0 ) for x in u ]\n",
    "z_an = z_an + emitter_z_pos\n",
    "\n",
    "r_num = h5file[\"/ParticleSources/cathode_emitter/position_x\"]\n",
    "z_num = h5file[\"/ParticleSources/cathode_emitter/position_z\"]\n",
    "\n",
    "z_volume_size = h5file[\"/SpatialMesh\"].attrs[\"z_volume_size\"]\n",
    "x_volume_size = h5file[\"/SpatialMesh\"].attrs[\"x_volume_size\"]\n",
    "plt.xlabel( \"Z [cm]\" )\n",
    "plt.ylabel( \"X [cm]\" )\n",
    "plt.ylim( 0, x_volume_size )\n",
    "plt.xlim( 0, z_volume_size )\n",
    "plt.plot( z_num, r_num, '.', label = \"num\" )\n",
    "plt.plot( z_an, r_an_upper, label = \"theory\", color = \"g\" )\n",
    "plt.plot( z_an, r_an_lower, color = \"g\" )\n",
    "plt.legend()\n",
    "h5file.close()\n",
    "\n",
    "plt.savefig( \"beam_contour_jup.png\" )\n",
    "plt.show()"
   ]
  },
  {
   "cell_type": "code",
   "execution_count": null,
   "metadata": {
    "collapsed": true
   },
   "outputs": [],
   "source": []
  }
 ],
 "metadata": {
  "kernelspec": {
   "display_name": "Python 3",
   "language": "python",
   "name": "python3"
  },
  "language_info": {
   "codemirror_mode": {
    "name": "ipython",
    "version": 3
   },
   "file_extension": ".py",
   "mimetype": "text/x-python",
   "name": "python",
   "nbconvert_exporter": "python",
   "pygments_lexer": "ipython3",
   "version": "3.4.2"
  }
 },
 "nbformat": 4,
 "nbformat_minor": 2
}
