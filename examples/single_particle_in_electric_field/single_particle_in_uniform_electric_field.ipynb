{
 "cells": [
  {
   "cell_type": "code",
   "execution_count": null,
   "metadata": {
    "collapsed": true
   },
   "outputs": [],
   "source": [
    "import os\n",
    "import sys\n",
    "jupyter_module_path = os.path.join( os.getcwd(), '..', '..' )\n",
    "sys.path.append( jupyter_module_path )\n",
    "jupyter_module_path = os.path.join( os.getcwd(), '..', '..', 'EfJupyter' )\n",
    "sys.path.append( jupyter_module_path )\n",
    "\n",
    "from EfJupyter import EfConf"
   ]
  },
  {
   "cell_type": "markdown",
   "metadata": {},
   "source": [
    "In this example, exact analytical trajectory of a charged particle moving in a uniform electric field is compared with results of numerical simulation. "
   ]
  },
  {
   "cell_type": "markdown",
   "metadata": {},
   "source": [
    "In uniform electric field charged particle moves with uniform acceleration, directed along the field.\n",
    "\n",
    "\\begin{align}\n",
    "& \\mathbf{v} = \\mathbf{v}_0 + \\frac{q}{m} \\mathbf{E}_0 t\n",
    "\\\\\n",
    "& \\mathbf{r} = \\mathbf{r}_0 + \\mathbf{v}_0 t + \\frac{1}{2} \\frac{q}{m} \\mathbf{E}_0 t^2\n",
    "\\end{align}"
   ]
  },
  {
   "cell_type": "markdown",
   "metadata": {},
   "source": [
    "Part of a config file, regarding single particle, is similar to \n",
    "['singe particle in free space'](https://github.com/epicf/ef/wiki/Ex1:-Single-Particle-In-Free-Space). "
   ]
  },
  {
   "cell_type": "markdown",
   "metadata": {},
   "source": [
    "_поменять на равномерное поле_\n",
    "\n",
    "As of uniform electric field, currently ef can not use any analytical expressions for fields, nor load precomputed numerical fields. However, a good approximation for uniform field is field between two parallel charged plates. \n",
    "The simplest way to model this in ef is to specify appropriate boundary conditions. We need nonzero potential difference on two opposing sides of the computational volume. \n",
    "\n",
    "    [BoundaryConditions]\n",
    "    boundary_phi_left = 0.0\n",
    "    boundary_phi_right = 0.0\n",
    "    boundary_phi_bottom = 0.0\n",
    "    boundary_phi_top = 0.0\n",
    "    boundary_phi_near = 3.0\n",
    "    boundary_phi_far = -3.0\n",
    "    \n",
    "To ensure a good degree of field uniformity, we need distance between two \"plates\" (i.e. sides of the computational volume with potential difference) to be much less than size of the plates\n",
    "\n",
    "    [SpatialMesh]\n",
    "    grid_x_size = 10.0\n",
    "    grid_x_step = 0.25\n",
    "    grid_y_size = 10.0\n",
    "    grid_y_step = 0.25\n",
    "    grid_z_size = 1.0\n",
    "    grid_z_step = 0.01\n",
    "    \n",
    "\n",
    "Initial position of the particle had to be adjusted:\n",
    "\n",
    "    [ParticleSourceBox.emit_single_particle]\n",
    "    ...\n",
    "    box_x_left = 5.00\n",
    "    box_x_right = 5.01\n",
    "    box_y_bottom = 5.00\n",
    "    box_y_top = 5.01\n",
    "    box_z_near = 0.10\n",
    "    box_z_far = 0.11\n",
    "    ...\n",
    "\n",
    "\n",
    "\n",
    "After the simulation, it is useful to glance over potential distribution in the volume.\n",
    "3d figure is not very informative. \n",
    "Use 2d colormaps at XY and XZ planes at nodes near particle initial position.\n",
    "Relevant plotting script is [link].\n",
    "\n",
    "The results are\n",
    "\n",
    "<img src=\"https://github.com/epicf/ef/blob/dev/doc/figs/ex3_single_particle_in_electric_field/potential_along_z.png\" width=\"500\"/>\n",
    "\n",
    "Electric field is directed perpendicular to equipotential surfaces. It can be seen, that it \n",
    "the middle of computational region electric field is directed along Z. "
   ]
  },
  {
   "cell_type": "code",
   "execution_count": null,
   "metadata": {
    "collapsed": true
   },
   "outputs": [],
   "source": []
  },
  {
   "cell_type": "markdown",
   "metadata": {},
   "source": [
    "Trajectories are plotted similarly to previous examples.\n",
    "Magnitude of electric field equals potential difference divided by distance between plates:\n",
    "[E_0 = - delta phi / d ][eqn]"
   ]
  },
  {
   "cell_type": "markdown",
   "metadata": {},
   "source": [
    "Figures of trajectories: (todo: something wrong with kin. energy.)\n",
    "\n",
    "<img src=\"https://github.com/epicf/ef/blob/dev/doc/figs/ex3_single_particle_in_electric_field/3d.png\" width=\"500\"/>\n",
    "<img src=\"https://github.com/epicf/ef/blob/dev/doc/figs/ex3_single_particle_in_electric_field/2d.png\" width=\"500\"/>\n",
    "<img src=\"https://github.com/epicf/ef/blob/dev/doc/figs/ex3_single_particle_in_electric_field/kin_en.png\" width=\"500\"/>\n",
    "\n",
    "Degree of field uniformity can be estimated by evaluating difference\n",
    "of field components near initial and final points of particle trajectory:\n",
    "[code]\n",
    "\n",
    "For present choice of parameters: \n",
    "\n",
    "    ( Exf - Exi ) / Ez0 = , \n",
    "    ( Eyf - Eyi ) / Ez0 = , \n",
    "    ( Ezf - Ezi ) / Ez0 = \n",
    "\n",
    "It should not be very significant."
   ]
  },
  {
   "cell_type": "code",
   "execution_count": null,
   "metadata": {
    "collapsed": true
   },
   "outputs": [],
   "source": []
  }
 ],
 "metadata": {
  "kernelspec": {
   "display_name": "Python 3",
   "language": "python",
   "name": "python3"
  },
  "language_info": {
   "codemirror_mode": {
    "name": "ipython",
    "version": 3
   },
   "file_extension": ".py",
   "mimetype": "text/x-python",
   "name": "python",
   "nbconvert_exporter": "python",
   "pygments_lexer": "ipython3",
   "version": "3.4.2"
  }
 },
 "nbformat": 4,
 "nbformat_minor": 2
}
